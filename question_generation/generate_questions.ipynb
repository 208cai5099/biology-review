{
 "cells": [
  {
   "cell_type": "code",
   "execution_count": 3,
   "id": "b6c8cca2-b217-4f8c-8880-1f839b40e9a6",
   "metadata": {},
   "outputs": [],
   "source": [
    "import os\n",
    "import replicate\n",
    "import json\n",
    "import time"
   ]
  },
  {
   "cell_type": "code",
   "execution_count": 5,
   "id": "d960c587-bf9c-4078-8566-fcc182b75d28",
   "metadata": {},
   "outputs": [],
   "source": [
    "with open(\"replicate_token.txt\", \"r\") as replicate_key_file:\n",
    "    os.environ[\"REPLICATE_API_TOKEN\"] = replicate_key_file.readline().strip()"
   ]
  },
  {
   "cell_type": "code",
   "execution_count": 7,
   "id": "aada14fe-38e3-4dc4-9e52-9599f738d313",
   "metadata": {},
   "outputs": [],
   "source": [
    "# list the sub-topics of interest\n",
    "# map each list of sub-topics to an overarching major topic\n",
    "topics = {\n",
    "    \"Cells\" : [\n",
    "        \"Ribosome\",\n",
    "        \"Nucleus\",\n",
    "        \"Cell Membrane\",\n",
    "        \"Mitochondria\",\n",
    "        \"Chloroplast\",\n",
    "        \"Cell Wall\",\n",
    "        \"Lysosome\",\n",
    "        \"Rough Endoplasmic Reticulum\",\n",
    "        \"Smooth Endoplasmic Reticulum\",\n",
    "        \"Golgi Body\",\n",
    "        \"Vacuole\",\n",
    "        \"Cytoplasm\"\n",
    "    ],\n",
    "    \"Biochemistry\" : [\n",
    "        \"Photosynthesis\",\n",
    "        \"Aerobic Respiration\",\n",
    "        \"Anaerobic Respiration or Fermentation\",\n",
    "        \"Glycolysis\",\n",
    "        \"Enzyme\",\n",
    "        \"Transcription\",\n",
    "        \"Translation\",\n",
    "        \"Protein Synthesis\",\n",
    "        \"Protein Structure\"\n",
    "    ],\n",
    "    \"Genetics\" : [\n",
    "        \"Nucleotides\",\n",
    "        \"Gene\",\n",
    "        \"DNA Replication\",\n",
    "        \"DNA Structure\",\n",
    "        \"Chromosome Structure\",\n",
    "        \"Gene Expression\",\n",
    "        \"Genotype\",\n",
    "        \"Phenotype\",\n",
    "        \"Genetic Engineering\",\n",
    "        \"Bacterial Transformation\",\n",
    "        \"CRISPR-Cas9\"\n",
    "    ],\n",
    "    \"Human Physiology\" : [\n",
    "        \"Human Circulatory System\",\n",
    "        \"Human Respiratory System\",\n",
    "        \"Human Digestive System\",\n",
    "        \"Human Nervous System\",\n",
    "        \"Human Endocrine System\",\n",
    "        \"Human Immune System\",\n",
    "        \"Human Male Reproductive System\",\n",
    "        \"Human Female Reproductive System\",\n",
    "        \"Hormone Functions\"\n",
    "    ],\n",
    "    \"Reproduction and Development\" : [\n",
    "        \"Sexual Reproduction\",\n",
    "        \"Asexual Reproduction\",\n",
    "        \"Mitosis\",\n",
    "        \"Meiosis\",\n",
    "        \"Gametes\",\n",
    "        \"Menstrual Cycle\",\n",
    "        \"Zygote\",\n",
    "        \"Germ Cell Layers\",\n",
    "        \"Stem Cells\"\n",
    "    ],\n",
    "    \"Evolution\" : [\n",
    "        \"Natural Selection\",\n",
    "        \"Resource Competition\",\n",
    "        \"Genetic Drift\",\n",
    "        \"Convergent Evolution\",\n",
    "        \"Divergent Evolution\",\n",
    "        \"Common Ancestor\",\n",
    "        \"Adaptive Radiation\"\n",
    "    ],\n",
    "    \"Ecology\" : [\n",
    "        \"Heterotroph vs Autotroph\",\n",
    "        \"Predator-Prey Relationship\",\n",
    "        \"Ecological Succession\",\n",
    "        \"Invasive Species\",\n",
    "        \"Food Chain\",\n",
    "        \"Carrying Capacity\",\n",
    "        \"Niche\",\n",
    "        \"Symbiosis\"\n",
    "    ]\n",
    "}"
   ]
  },
  {
   "cell_type": "code",
   "execution_count": 9,
   "id": "78177a8f-350c-41ac-a883-b49428bdaa4d",
   "metadata": {},
   "outputs": [],
   "source": [
    "def format_prompt(topic):\n",
    "\n",
    "    return f'''\n",
    "    \n",
    "    Given a topic, create a multiple-choice review question with 4 choices. ONLY one of the choices is correct.\n",
    "    Provide the correct answer.\n",
    "    \n",
    "    Here is the topic: {topic}\n",
    "\n",
    "    IMPORTANT: Your question should not be more than 3 sentences long.\n",
    "    IMPORTANT: Provide only the question and the answer. No other text needed.\n",
    "    IMPORTANT: Format your question and answer like the example below:\n",
    "    Topic: Photosynthesis\n",
    "    What are the chemical reactants in photosynthesis?\n",
    "    a. Oxygen and water\n",
    "    b. Water and carbon dioxide\n",
    "    c. Glucose and water\n",
    "    d. Oxygen and glucose\n",
    "    Correct Answer: b\n",
    "    '''\n",
    "\n",
    "def format_input(topic):\n",
    "\n",
    "    prompt = format_prompt(topic)\n",
    "\n",
    "    system_prompt = \"You are a high school biology teacher. You are making questions to help students review biology concepts.\"\n",
    "\n",
    "    return {\n",
    "        \"prompt\" : prompt,\n",
    "        \"system_prompt\" : system_prompt,\n",
    "        \"max_tokens\" : 200\n",
    "    }"
   ]
  },
  {
   "cell_type": "code",
   "execution_count": 11,
   "id": "e2cb6c47-5bac-4a0b-8ef4-040d870f72d5",
   "metadata": {},
   "outputs": [],
   "source": [
    "major_topic_list = []\n",
    "question_list = []\n",
    "\n",
    "for major_topic in topics.keys():\n",
    "\n",
    "    sub_topics = topics[major_topic]\n",
    "\n",
    "    for topic in sub_topics:\n",
    "\n",
    "        llm_input = format_input(topic)\n",
    "        \n",
    "        output = replicate.run(\n",
    "            \"meta/meta-llama-3-70b-instruct\",\n",
    "            input=llm_input\n",
    "        )\n",
    "        \n",
    "        question_list.append(\"\".join(output))\n",
    "        major_topic_list.append(major_topic)\n",
    "\n",
    "        if len(question_list) % 20 == 0:\n",
    "            time.sleep(5)"
   ]
  },
  {
   "cell_type": "code",
   "execution_count": 13,
   "id": "e5f304f6-bf58-4cad-859d-9abb9a9a06be",
   "metadata": {},
   "outputs": [
    {
     "data": {
      "text/plain": [
       "True"
      ]
     },
     "execution_count": 13,
     "metadata": {},
     "output_type": "execute_result"
    }
   ],
   "source": [
    "len(question_list) == len(major_topic_list)"
   ]
  },
  {
   "cell_type": "code",
   "execution_count": 15,
   "id": "dbc92378-65e4-45df-9da5-cb77c974b082",
   "metadata": {},
   "outputs": [],
   "source": [
    "original_questions_filename = \"question_generation/original_generated_questions.txt\"\n",
    "with open(original_questions_filename, \"a\") as file:\n",
    "    for q in question_list:\n",
    "        file.write(q.strip() + \"\\n\")"
   ]
  },
  {
   "cell_type": "code",
   "execution_count": null,
   "id": "3e007882-113a-41e8-80da-b24b74aa406f",
   "metadata": {},
   "outputs": [],
   "source": []
  }
 ],
 "metadata": {
  "kernelspec": {
   "display_name": "Python 3 (ipykernel)",
   "language": "python",
   "name": "python3"
  },
  "language_info": {
   "codemirror_mode": {
    "name": "ipython",
    "version": 3
   },
   "file_extension": ".py",
   "mimetype": "text/x-python",
   "name": "python",
   "nbconvert_exporter": "python",
   "pygments_lexer": "ipython3",
   "version": "3.12.4"
  }
 },
 "nbformat": 4,
 "nbformat_minor": 5
}
